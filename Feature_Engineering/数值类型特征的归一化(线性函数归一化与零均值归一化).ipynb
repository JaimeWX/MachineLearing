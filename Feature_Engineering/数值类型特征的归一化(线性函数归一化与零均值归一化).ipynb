{
 "cells": [
  {
   "cell_type": "code",
   "execution_count": 4,
   "metadata": {},
   "outputs": [],
   "source": [
    "# 数据预处理：线性函数归一化与零均值归一化\n",
    "    # 假设现在要分析一个人的身高与体重对健康的影响\n",
    "        # 如下所示，训练数据集x中总共有5个样本，每个样本包含2个数值型特征分别为身高m，体重kg\n",
    "        # 对这个5x2的矩阵分别进行线性函数归一化与零均值归一化"
   ]
  },
  {
   "cell_type": "code",
   "execution_count": 6,
   "metadata": {},
   "outputs": [
    {
     "data": {
      "text/plain": [
       "array([[ 1.73, 68.  ],\n",
       "       [ 1.65, 70.  ],\n",
       "       [ 1.78, 65.  ],\n",
       "       [ 1.56, 48.  ],\n",
       "       [ 1.68, 50.  ]])"
      ]
     },
     "execution_count": 6,
     "metadata": {},
     "output_type": "execute_result"
    }
   ],
   "source": [
    "# 编造数据\n",
    "import numpy as np\n",
    "x = np.array([[1.73,68],[1.65,70],[1.78,65],[1.56,48],[1.68,50]])\n",
    "x"
   ]
  },
  {
   "cell_type": "code",
   "execution_count": 7,
   "metadata": {},
   "outputs": [
    {
     "data": {
      "text/plain": [
       "array([[0.77272727, 0.90909091],\n",
       "       [0.40909091, 1.        ],\n",
       "       [1.        , 0.77272727],\n",
       "       [0.        , 0.        ],\n",
       "       [0.54545455, 0.09090909]])"
      ]
     },
     "execution_count": 7,
     "metadata": {},
     "output_type": "execute_result"
    }
   ],
   "source": [
    "# 线性函数归一化\n",
    "MMS_x = (x - np.min(x,axis=0)) / (np.max(x,axis=0) - np.min(x,axis=0))\n",
    "MMS_x"
   ]
  },
  {
   "cell_type": "code",
   "execution_count": 8,
   "metadata": {},
   "outputs": [
    {
     "data": {
      "text/plain": [
       "array([[ 8.99280576e+00,  9.01109057e-02],\n",
       "       [-5.39568345e+00,  1.13216266e-01],\n",
       "       [ 1.79856115e+01,  5.54528651e-02],\n",
       "       [-2.15827338e+01, -1.40942699e-01],\n",
       "       [-3.99360800e-14, -1.17837338e-01]])"
      ]
     },
     "execution_count": 8,
     "metadata": {},
     "output_type": "execute_result"
    }
   ],
   "source": [
    "# 零均值归一化\n",
    "ZSN_x = (x - np.mean(x, axis=0)) / np.var(x, axis=0)\n",
    "ZSN_x"
   ]
  }
 ],
 "metadata": {
  "kernelspec": {
   "display_name": "Python 3",
   "language": "python",
   "name": "python3"
  },
  "language_info": {
   "codemirror_mode": {
    "name": "ipython",
    "version": 3
   },
   "file_extension": ".py",
   "mimetype": "text/x-python",
   "name": "python",
   "nbconvert_exporter": "python",
   "pygments_lexer": "ipython3",
   "version": "3.8.5"
  }
 },
 "nbformat": 4,
 "nbformat_minor": 4
}
